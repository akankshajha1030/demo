{
 "cells": [
  {
   "cell_type": "code",
   "execution_count": 1,
   "id": "b7bb7ce5-8d3c-4681-baf0-969d18bc78ee",
   "metadata": {},
   "outputs": [
    {
     "name": "stdout",
     "output_type": "stream",
     "text": [
      "40\n"
     ]
    }
   ],
   "source": [
    "#1.variable assignment and sum\n",
    "num1=15\n",
    "num2=25\n",
    "result=num1+ num2\n",
    "print(result)"
   ]
  },
  {
   "cell_type": "code",
   "execution_count": 3,
   "id": "d7325e50-7215-4549-a467-51a6ef9f5d4b",
   "metadata": {},
   "outputs": [
    {
     "name": "stdout",
     "output_type": "stream",
     "text": [
      "32\n"
     ]
    }
   ],
   "source": [
    "#2 difference and product\n",
    "#(a)\n",
    "a=50\n",
    "b=18\n",
    "print( a- b)"
   ]
  },
  {
   "cell_type": "code",
   "execution_count": 4,
   "id": "7ceff88b-756a-43fa-9fc8-6baafc213a32",
   "metadata": {},
   "outputs": [
    {
     "name": "stdout",
     "output_type": "stream",
     "text": [
      "84\n"
     ]
    }
   ],
   "source": [
    "#2(b)\n",
    "a=12\n",
    "b=7\n",
    "print(a*b)"
   ]
  },
  {
   "cell_type": "code",
   "execution_count": 5,
   "id": "5db52f5d-efb8-4882-8fca-9d2bece142df",
   "metadata": {},
   "outputs": [
    {
     "name": "stdout",
     "output_type": "stream",
     "text": [
      "33.333333333333336\n",
      "<class 'float'>\n"
     ]
    }
   ],
   "source": [
    "#3 division & modulus\n",
    "#(a)\n",
    "a=100\n",
    "b=3\n",
    "c=100/3\n",
    "print(c)\n",
    "print(type(c))"
   ]
  },
  {
   "cell_type": "code",
   "execution_count": 1,
   "id": "673e472c-6817-4137-b575-af1a8c52345f",
   "metadata": {},
   "outputs": [
    {
     "name": "stdout",
     "output_type": "stream",
     "text": [
      "1\n"
     ]
    }
   ],
   "source": [
    "#(b)\n",
    "a=100\n",
    "b=3\n",
    "print(a%b)"
   ]
  },
  {
   "cell_type": "code",
   "execution_count": 2,
   "id": "96e8bb50-7b23-44fc-a700-2b5d4664686e",
   "metadata": {},
   "outputs": [
    {
     "name": "stdout",
     "output_type": "stream",
     "text": [
      "8\n",
      "6\n",
      "True\n"
     ]
    }
   ],
   "source": [
    "#4 boolean expression\n",
    "#(a)\n",
    "a=5\n",
    "b=3\n",
    "c=a+b\n",
    "d=10\n",
    "e=4\n",
    "f=d-e\n",
    "print(c)\n",
    "print(f)\n",
    "g=c>f\n",
    "print(g)"
   ]
  },
  {
   "cell_type": "code",
   "execution_count": 3,
   "id": "afaa6479-9c6b-4bb5-8b90-3f99fd0a5ecc",
   "metadata": {},
   "outputs": [
    {
     "name": "stdout",
     "output_type": "stream",
     "text": [
      "10.0\n",
      "True\n"
     ]
    }
   ],
   "source": [
    "#(b)\n",
    "a=20\n",
    "b=2\n",
    "c=a/b\n",
    "d=10\n",
    "e= c==d\n",
    "print(c)\n",
    "print(e)\n"
   ]
  },
  {
   "cell_type": "code",
   "execution_count": 4,
   "id": "59032270-f2fe-48d5-a5cc-4b49bd594668",
   "metadata": {},
   "outputs": [
    {
     "name": "stdout",
     "output_type": "stream",
     "text": [
      "False\n",
      "True\n",
      "True\n"
     ]
    }
   ],
   "source": [
    "#(c)\n",
    "a=7\n",
    "b=5\n",
    "c=a<b\n",
    "d=9\n",
    "e=8\n",
    "f=d!=e\n",
    "g=c or f\n",
    "print(c)\n",
    "print(f)\n",
    "print(g)"
   ]
  },
  {
   "cell_type": "code",
   "execution_count": 6,
   "id": "55a9d341-4998-4c73-8c61-95c2597a663e",
   "metadata": {},
   "outputs": [
    {
     "name": "stdout",
     "output_type": "stream",
     "text": [
      "45\n"
     ]
    }
   ],
   "source": [
    "#5. type conversion\n",
    "#(a)\n",
    "floatnum=45.8\n",
    "intnum=int(floatnum)\n",
    "print(intnum)"
   ]
  },
  {
   "cell_type": "code",
   "execution_count": 7,
   "id": "838d48ee-649e-4318-9fb2-82f9b3a31e97",
   "metadata": {},
   "outputs": [
    {
     "name": "stdout",
     "output_type": "stream",
     "text": [
      "33.0\n"
     ]
    }
   ],
   "source": [
    "#(b)\n",
    "intnum=33\n",
    "floatnum=float(intnum)\n",
    "print(floatnum)"
   ]
  },
  {
   "cell_type": "code",
   "execution_count": 8,
   "id": "f14db889-4624-4851-b8a2-7676140440b7",
   "metadata": {},
   "outputs": [
    {
     "name": "stdout",
     "output_type": "stream",
     "text": [
      "20.0\n"
     ]
    }
   ],
   "source": [
    "#6. Average of three numbers\n",
    "a=10\n",
    "b=20\n",
    "c=30\n",
    "n=3\n",
    "d=a+b+c\n",
    "e=d/n\n",
    "print(e)\n"
   ]
  },
  {
   "cell_type": "code",
   "execution_count": 9,
   "id": "ccf35411-9cb6-4c87-a7f8-5dd523f11569",
   "metadata": {},
   "outputs": [
    {
     "name": "stdout",
     "output_type": "stream",
     "text": [
      "125\n"
     ]
    }
   ],
   "source": [
    "#7. power calculation\n",
    "a=5\n",
    "b=3\n",
    "c=a**b\n",
    "print(c)"
   ]
  },
  {
   "cell_type": "code",
   "execution_count": 10,
   "id": "d313f0db-6c32-4205-90b1-64fabab99080",
   "metadata": {},
   "outputs": [
    {
     "name": "stdout",
     "output_type": "stream",
     "text": [
      "66.6\n",
      "0.5555555555555556\n",
      "37.0\n"
     ]
    }
   ],
   "source": [
    "#8. temprature conversion\n",
    "tempf=98.6\n",
    "b=32\n",
    "c=5\n",
    "d=9\n",
    "e=tempf-b\n",
    "f=c/d\n",
    "celcius=e*f\n",
    "print(e)\n",
    "print(f)\n",
    "print(celcius)\n"
   ]
  },
  {
   "cell_type": "code",
   "execution_count": 11,
   "id": "afaaf564-ddd3-4009-895c-e7231997ef83",
   "metadata": {},
   "outputs": [
    {
     "name": "stdout",
     "output_type": "stream",
     "text": [
      "10.0\n",
      "1000\n"
     ]
    }
   ],
   "source": [
    "#9. simple interest calculation\n",
    "p=100\n",
    "r=5\n",
    "t=2\n",
    "n=100\n",
    "product=p*r*t\n",
    "SI=product/n\n",
    "print(SI)\n",
    "print(product)\n"
   ]
  },
  {
   "cell_type": "code",
   "execution_count": null,
   "id": "847ca1d2-1e81-4e04-9002-567921151b65",
   "metadata": {},
   "outputs": [],
   "source": [
    "#10. mixed arithematic\n",
    "a=15\n",
    "b=5\n",
    "c=a+b\n",
    "d=20\n",
    "e=8\n",
    "g=4\n",
    "f=d-e\n",
    "h=f/g\n",
    "result=c*h\n"
   ]
  }
 ],
 "metadata": {
  "kernelspec": {
   "display_name": "Python 3 (ipykernel)",
   "language": "python",
   "name": "python3"
  },
  "language_info": {
   "codemirror_mode": {
    "name": "ipython",
    "version": 3
   },
   "file_extension": ".py",
   "mimetype": "text/x-python",
   "name": "python",
   "nbconvert_exporter": "python",
   "pygments_lexer": "ipython3",
   "version": "3.13.5"
  }
 },
 "nbformat": 4,
 "nbformat_minor": 5
}
