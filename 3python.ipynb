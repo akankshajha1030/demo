{
 "cells": [
  {
   "cell_type": "code",
   "execution_count": 1,
   "id": "a23519d1-ac63-4185-afdb-cc774dcd834c",
   "metadata": {},
   "outputs": [
    {
     "name": "stdout",
     "output_type": "stream",
     "text": [
      "<class 'float'>\n"
     ]
    }
   ],
   "source": [
    "#type conversion\n",
    "x=10\n",
    "y=float(x)\n",
    "print(type(y))"
   ]
  },
  {
   "cell_type": "code",
   "execution_count": 2,
   "id": "3da06b98-520a-4dd9-9025-4a26ec20c513",
   "metadata": {},
   "outputs": [
    {
     "name": "stdout",
     "output_type": "stream",
     "text": [
      "<class 'float'>\n"
     ]
    }
   ],
   "source": [
    "x=10\n",
    "y=10.5\n",
    "z=x+y\n",
    "print(type(z))"
   ]
  },
  {
   "cell_type": "code",
   "execution_count": 12,
   "id": "3ce4b6f4-1e35-44d7-a9fa-f7fd05be0d02",
   "metadata": {},
   "outputs": [
    {
     "name": "stdin",
     "output_type": "stream",
     "text": [
      "enter product name:  mango\n",
      " enter quality:  20\n",
      "enter price per item:  20\n"
     ]
    },
    {
     "name": "stdout",
     "output_type": "stream",
     "text": [
      "mango\n",
      "20\n",
      "20.0\n",
      "400.0\n"
     ]
    }
   ],
   "source": [
    "product= input(\"enter product name: \")\n",
    "quality= int(input(\" enter quality: \"))\n",
    "price= float(input(\"enter price per item: \"))\n",
    "total= quality*price\n",
    "print(product)\n",
    "print(quality)\n",
    "print(price)\n",
    "print(total)\n",
    "             \n",
    "\n",
    "\n"
   ]
  },
  {
   "cell_type": "code",
   "execution_count": 7,
   "id": "8951b4bc-e9fe-41f1-ab4b-37181e155f1e",
   "metadata": {},
   "outputs": [
    {
     "name": "stdout",
     "output_type": "stream",
     "text": [
      "hello\n"
     ]
    }
   ],
   "source": [
    "a=10\n",
    "if a<15:\n",
    "   print(\"hello\")"
   ]
  },
  {
   "cell_type": "code",
   "execution_count": 8,
   "id": "a46bd786-39e9-4fca-80a1-b04dc293305a",
   "metadata": {},
   "outputs": [
    {
     "name": "stdout",
     "output_type": "stream",
     "text": [
      "bye\n"
     ]
    }
   ],
   "source": [
    "a=10\n",
    "if a>15:\n",
    "    print(\"hello\")\n",
    "else:\n",
    "    print(\"bye\")"
   ]
  },
  {
   "cell_type": "code",
   "execution_count": 3,
   "id": "436c5865-41bb-4b2e-b649-da3ed272da06",
   "metadata": {},
   "outputs": [
    {
     "name": "stdout",
     "output_type": "stream",
     "text": [
      "eligible to vote\n"
     ]
    }
   ],
   "source": [
    "age=20\n",
    "if age>10:\n",
    "   print(\"eligible to vote\")\n",
    "else: \n",
    "   print(\"not eligible\")"
   ]
  },
  {
   "cell_type": "code",
   "execution_count": 4,
   "id": "5a76befb-f84b-4ae6-a0e8-9c2403cf274b",
   "metadata": {},
   "outputs": [
    {
     "name": "stdin",
     "output_type": "stream",
     "text": [
      "enter month march\n"
     ]
    },
    {
     "name": "stdout",
     "output_type": "stream",
     "text": [
      "its summer season\n"
     ]
    }
   ],
   "source": [
    "month=input(\"enter month\")\n",
    "if month in ['december','january','february']:\n",
    "   print(\"its winter season\")\n",
    "elif month in ['march', 'april', 'may']:\n",
    "   print(\"its summer season\")\n",
    "else: \n",
    "    print(\"invalid\")\n",
    "\n",
    "    "
   ]
  },
  {
   "cell_type": "code",
   "execution_count": 11,
   "id": "85ac3b2d-f484-4fce-abb5-369a8e661767",
   "metadata": {},
   "outputs": [
    {
     "name": "stdin",
     "output_type": "stream",
     "text": [
      "enter vehichle bike\n"
     ]
    },
    {
     "name": "stdout",
     "output_type": "stream",
     "text": [
      "invalid\n"
     ]
    }
   ],
   "source": [
    "vehicle=input(\"enter vehichle\")\n",
    "if vehicle in['car','bus','truck']:\n",
    "   print(\"it will expire in 15 years\")\n",
    "elif month in ['bike','e bike']:\n",
    "   print(\"it will expire in 12 years\")\n",
    "else: \n",
    "    print(\"invalid\")"
   ]
  },
  {
   "cell_type": "code",
   "execution_count": 13,
   "id": "86fe29bf-270d-4ce8-87a1-98a0fd55561a",
   "metadata": {},
   "outputs": [
    {
     "name": "stdin",
     "output_type": "stream",
     "text": [
      "no 6\n"
     ]
    },
    {
     "name": "stdout",
     "output_type": "stream",
     "text": [
      "positive\n"
     ]
    }
   ],
   "source": [
    "x= int (input(\"no\"))\n",
    "if x>0:\n",
    "    print(\"positive\")\n",
    "elif x<0:\n",
    "    print (\"negative \")\n",
    "else :\n",
    "    print(\"zero\")\n",
    "    \n"
   ]
  },
  {
   "cell_type": "code",
   "execution_count": 2,
   "id": "220c3d78-1371-4bcc-82bd-84777e07eb69",
   "metadata": {},
   "outputs": [
    {
     "name": "stdin",
     "output_type": "stream",
     "text": [
      "Enter a number  5\n"
     ]
    },
    {
     "name": "stdout",
     "output_type": "stream",
     "text": [
      "Positive number\n"
     ]
    }
   ],
   "source": [
    "#questions\n",
    "num= int(input(\"Enter a number \"))\n",
    "if num> 0:\n",
    "     print(\"Positive number\")\n",
    "elif num == 0:\n",
    "     print(\"Zero\")\n",
    "else:\n",
    "     print(\"Negative number\")"
   ]
  },
  {
   "cell_type": "code",
   "execution_count": null,
   "id": "2c0abb90-4a02-4f23-a6cb-0a3ef9826c0c",
   "metadata": {},
   "outputs": [],
   "source": []
  }
 ],
 "metadata": {
  "kernelspec": {
   "display_name": "Python 3 (ipykernel)",
   "language": "python",
   "name": "python3"
  },
  "language_info": {
   "codemirror_mode": {
    "name": "ipython",
    "version": 3
   },
   "file_extension": ".py",
   "mimetype": "text/x-python",
   "name": "python",
   "nbconvert_exporter": "python",
   "pygments_lexer": "ipython3",
   "version": "3.13.5"
  }
 },
 "nbformat": 4,
 "nbformat_minor": 5
}
