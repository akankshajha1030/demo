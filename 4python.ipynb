{
 "cells": [
  {
   "cell_type": "code",
   "execution_count": 1,
   "id": "906e1b75-0def-411e-94d2-c8840793f4b2",
   "metadata": {},
   "outputs": [
    {
     "name": "stdout",
     "output_type": "stream",
     "text": [
      "Updated list1: [1, 2, 3, 4, 5, 6]\n"
     ]
    }
   ],
   "source": [
    "list1 = [1, 2, 3]\n",
    "list2 = [4, 5, 6]\n",
    "list1.extend(list2)\n",
    "print(\"Updated list1:\", list1)\n"
   ]
  },
  {
   "cell_type": "code",
   "execution_count": 2,
   "id": "fb66e57a-e0d0-4da6-aa94-f4a267a829b6",
   "metadata": {},
   "outputs": [
    {
     "name": "stdout",
     "output_type": "stream",
     "text": [
      "After insertion: [10, 20, 25, 30, 40]\n"
     ]
    }
   ],
   "source": [
    "l = [10, 20, 30, 40]\n",
    "l.insert(2, 25)\n",
    "print(\"After insertion:\", l)"
   ]
  },
  {
   "cell_type": "code",
   "execution_count": 3,
   "id": "95664e8d-fe11-44a1-abd2-8a925fd8f30b",
   "metadata": {},
   "outputs": [
    {
     "name": "stdout",
     "output_type": "stream",
     "text": [
      "After removal: [10, 30, 20, 40]\n"
     ]
    }
   ],
   "source": [
    "l = [10, 20, 30, 20, 40]\n",
    "l.remove(20)\n",
    "print(\"After removal:\", l)"
   ]
  },
  {
   "cell_type": "code",
   "execution_count": 4,
   "id": "6daf9830-49b2-4e04-a4a1-064416d56f43",
   "metadata": {},
   "outputs": [
    {
     "name": "stdout",
     "output_type": "stream",
     "text": [
      "5\n",
      "[1, 2, 3, 4]\n"
     ]
    }
   ],
   "source": [
    "l = [1, 2, 3, 4, 5]\n",
    "x = l.pop()\n",
    "print(x)\n",
    "print(l)\n"
   ]
  },
  {
   "cell_type": "code",
   "execution_count": 5,
   "id": "89b9cdb6-b462-4b9f-8362-5de6c0fc7062",
   "metadata": {},
   "outputs": [
    {
     "name": "stdout",
     "output_type": "stream",
     "text": [
      "2\n"
     ]
    }
   ],
   "source": [
    "lst1 = [5, 10, 15, 20, 25]\n",
    "print(lst1.index(15))"
   ]
  },
  {
   "cell_type": "code",
   "execution_count": 6,
   "id": "89461d39-a97a-47aa-a625-c5d45d2e5236",
   "metadata": {},
   "outputs": [
    {
     "name": "stdout",
     "output_type": "stream",
     "text": [
      "4\n"
     ]
    }
   ],
   "source": [
    "l2 = [1, 2, 2, 3, 2, 4, 2]\n",
    "print(l2.count(2))"
   ]
  },
  {
   "cell_type": "code",
   "execution_count": 8,
   "id": "9f77c311-a00a-4464-88d6-3edf892dc2cf",
   "metadata": {},
   "outputs": [
    {
     "name": "stdout",
     "output_type": "stream",
     "text": [
      "[3, 5, 7, 10]\n",
      "[10, 7, 5, 3]\n"
     ]
    }
   ],
   "source": [
    "lst= [10, 5, 7, 3]\n",
    "lst.sort()\n",
    "print(lst)\n",
    "\n",
    "lst.sort(reverse=True)\n",
    "print(lst)"
   ]
  },
  {
   "cell_type": "code",
   "execution_count": null,
   "id": "8ec49cf0-9959-4743-a53e-52e198a226e4",
   "metadata": {},
   "outputs": [],
   "source": []
  }
 ],
 "metadata": {
  "kernelspec": {
   "display_name": "Python 3 (ipykernel)",
   "language": "python",
   "name": "python3"
  },
  "language_info": {
   "codemirror_mode": {
    "name": "ipython",
    "version": 3
   },
   "file_extension": ".py",
   "mimetype": "text/x-python",
   "name": "python",
   "nbconvert_exporter": "python",
   "pygments_lexer": "ipython3",
   "version": "3.13.5"
  }
 },
 "nbformat": 4,
 "nbformat_minor": 5
}
